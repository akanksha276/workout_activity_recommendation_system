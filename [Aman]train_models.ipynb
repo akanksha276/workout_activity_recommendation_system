{
  "cells": [
    {
      "cell_type": "code",
      "execution_count": null,
      "metadata": {
        "id": "Bn2ST3NI_wUN"
      },
      "outputs": [],
      "source": [
        "# load libraries\n",
        "import numpy as np\n",
        "import pandas as pd\n",
        "import matplotlib.pyplot as plt\n",
        "from sklearn.preprocessing import OneHotEncoder\n",
        "from sklearn.model_selection import train_test_split\n",
        "from scipy.stats import zscore\n",
        "from sklearn.metrics import f1_score, accuracy_score, mean_squared_error"
      ]
    },
    {
      "cell_type": "code",
      "execution_count": null,
      "metadata": {
        "id": "tESanP7l_wUP",
        "outputId": "438d662c-da24-4f8b-cb5b-81330a31d222"
      },
      "outputs": [
        {
          "data": {
            "text/html": [
              "<div>\n",
              "<style scoped>\n",
              "    .dataframe tbody tr th:only-of-type {\n",
              "        vertical-align: middle;\n",
              "    }\n",
              "\n",
              "    .dataframe tbody tr th {\n",
              "        vertical-align: top;\n",
              "    }\n",
              "\n",
              "    .dataframe thead th {\n",
              "        text-align: right;\n",
              "    }\n",
              "</style>\n",
              "<table border=\"1\" class=\"dataframe\">\n",
              "  <thead>\n",
              "    <tr style=\"text-align: right;\">\n",
              "      <th></th>\n",
              "      <th>Unnamed: 0</th>\n",
              "      <th>userId</th>\n",
              "      <th>gender</th>\n",
              "      <th>sport</th>\n",
              "      <th>id</th>\n",
              "      <th>longitude</th>\n",
              "      <th>latitude</th>\n",
              "      <th>altitude</th>\n",
              "      <th>timestamp</th>\n",
              "      <th>time_elapsed</th>\n",
              "      <th>heart_rate</th>\n",
              "      <th>derived_speed</th>\n",
              "      <th>distance</th>\n",
              "      <th>tar_heart_rate</th>\n",
              "      <th>tar_derived_speed</th>\n",
              "      <th>since_begin</th>\n",
              "      <th>since_last</th>\n",
              "    </tr>\n",
              "  </thead>\n",
              "  <tbody>\n",
              "    <tr>\n",
              "      <th>24421958</th>\n",
              "      <td>24421958</td>\n",
              "      <td>5607830</td>\n",
              "      <td>male</td>\n",
              "      <td>run</td>\n",
              "      <td>352474425</td>\n",
              "      <td>-43.233297</td>\n",
              "      <td>-22.911036</td>\n",
              "      <td>-2.082819</td>\n",
              "      <td>1401985144</td>\n",
              "      <td>-0.052134</td>\n",
              "      <td>-4.898841</td>\n",
              "      <td>0.255093</td>\n",
              "      <td>-2.456982</td>\n",
              "      <td>115.575608</td>\n",
              "      <td>18.447180</td>\n",
              "      <td>-14.805054</td>\n",
              "      <td>-0.01158</td>\n",
              "    </tr>\n",
              "    <tr>\n",
              "      <th>25722941</th>\n",
              "      <td>25722941</td>\n",
              "      <td>7654809</td>\n",
              "      <td>male</td>\n",
              "      <td>run</td>\n",
              "      <td>452337496</td>\n",
              "      <td>5.232710</td>\n",
              "      <td>51.017632</td>\n",
              "      <td>-1.904360</td>\n",
              "      <td>1419950993</td>\n",
              "      <td>-0.104291</td>\n",
              "      <td>1.965995</td>\n",
              "      <td>-1.874954</td>\n",
              "      <td>-2.548111</td>\n",
              "      <td>147.991284</td>\n",
              "      <td>13.092428</td>\n",
              "      <td>-14.805054</td>\n",
              "      <td>-0.01158</td>\n",
              "    </tr>\n",
              "    <tr>\n",
              "      <th>14530035</th>\n",
              "      <td>14530035</td>\n",
              "      <td>1428766</td>\n",
              "      <td>male</td>\n",
              "      <td>bike</td>\n",
              "      <td>234717496</td>\n",
              "      <td>0.465231</td>\n",
              "      <td>49.484027</td>\n",
              "      <td>-2.440054</td>\n",
              "      <td>1377205546</td>\n",
              "      <td>-0.062387</td>\n",
              "      <td>-5.677717</td>\n",
              "      <td>3.210605</td>\n",
              "      <td>11.665921</td>\n",
              "      <td>111.897767</td>\n",
              "      <td>25.877074</td>\n",
              "      <td>-14.805054</td>\n",
              "      <td>-0.01158</td>\n",
              "    </tr>\n",
              "    <tr>\n",
              "      <th>9454492</th>\n",
              "      <td>9454492</td>\n",
              "      <td>159106</td>\n",
              "      <td>male</td>\n",
              "      <td>mountain bike</td>\n",
              "      <td>110372707</td>\n",
              "      <td>10.804173</td>\n",
              "      <td>55.212033</td>\n",
              "      <td>-2.233086</td>\n",
              "      <td>1354138850</td>\n",
              "      <td>0.007600</td>\n",
              "      <td>1.142551</td>\n",
              "      <td>2.009675</td>\n",
              "      <td>3.960602</td>\n",
              "      <td>144.102990</td>\n",
              "      <td>22.858042</td>\n",
              "      <td>-14.805054</td>\n",
              "      <td>-0.01158</td>\n",
              "    </tr>\n",
              "    <tr>\n",
              "      <th>28156562</th>\n",
              "      <td>28156562</td>\n",
              "      <td>9882712</td>\n",
              "      <td>male</td>\n",
              "      <td>bike</td>\n",
              "      <td>355398485</td>\n",
              "      <td>-75.806707</td>\n",
              "      <td>42.296954</td>\n",
              "      <td>1.139509</td>\n",
              "      <td>1402437307</td>\n",
              "      <td>-0.094929</td>\n",
              "      <td>-7.108062</td>\n",
              "      <td>1.509746</td>\n",
              "      <td>13.714082</td>\n",
              "      <td>105.143694</td>\n",
              "      <td>21.601267</td>\n",
              "      <td>-14.805054</td>\n",
              "      <td>-0.01158</td>\n",
              "    </tr>\n",
              "  </tbody>\n",
              "</table>\n",
              "</div>"
            ],
            "text/plain": [
              "          Unnamed: 0   userId gender          sport         id  longitude  \\\n",
              "24421958    24421958  5607830   male            run  352474425 -43.233297   \n",
              "25722941    25722941  7654809   male            run  452337496   5.232710   \n",
              "14530035    14530035  1428766   male           bike  234717496   0.465231   \n",
              "9454492      9454492   159106   male  mountain bike  110372707  10.804173   \n",
              "28156562    28156562  9882712   male           bike  355398485 -75.806707   \n",
              "\n",
              "           latitude  altitude   timestamp  time_elapsed  heart_rate  \\\n",
              "24421958 -22.911036 -2.082819  1401985144     -0.052134   -4.898841   \n",
              "25722941  51.017632 -1.904360  1419950993     -0.104291    1.965995   \n",
              "14530035  49.484027 -2.440054  1377205546     -0.062387   -5.677717   \n",
              "9454492   55.212033 -2.233086  1354138850      0.007600    1.142551   \n",
              "28156562  42.296954  1.139509  1402437307     -0.094929   -7.108062   \n",
              "\n",
              "          derived_speed   distance  tar_heart_rate  tar_derived_speed  \\\n",
              "24421958       0.255093  -2.456982      115.575608          18.447180   \n",
              "25722941      -1.874954  -2.548111      147.991284          13.092428   \n",
              "14530035       3.210605  11.665921      111.897767          25.877074   \n",
              "9454492        2.009675   3.960602      144.102990          22.858042   \n",
              "28156562       1.509746  13.714082      105.143694          21.601267   \n",
              "\n",
              "          since_begin  since_last  \n",
              "24421958   -14.805054    -0.01158  \n",
              "25722941   -14.805054    -0.01158  \n",
              "14530035   -14.805054    -0.01158  \n",
              "9454492    -14.805054    -0.01158  \n",
              "28156562   -14.805054    -0.01158  "
            ]
          },
          "execution_count": 4,
          "metadata": {},
          "output_type": "execute_result"
        }
      ],
      "source": [
        "# load the data\n",
        "path = '/Users/amankaur/Downloads/final_processed.csv'\n",
        "df_csv = pd.read_csv(path)\n",
        "df_csv.sample(5)"
      ]
    },
    {
      "cell_type": "code",
      "execution_count": null,
      "metadata": {
        "id": "0tIq20pz_wUQ",
        "outputId": "f2ce06b4-50ae-472c-a15f-d9cdc5abf239"
      },
      "outputs": [
        {
          "name": "stdout",
          "output_type": "stream",
          "text": [
            "<class 'pandas.core.frame.DataFrame'>\n",
            "RangeIndex: 30897600 entries, 0 to 30897599\n",
            "Data columns (total 17 columns):\n",
            " #   Column             Dtype  \n",
            "---  ------             -----  \n",
            " 0   Unnamed: 0         int64  \n",
            " 1   userId             int64  \n",
            " 2   gender             object \n",
            " 3   sport              object \n",
            " 4   id                 int64  \n",
            " 5   longitude          float64\n",
            " 6   latitude           float64\n",
            " 7   altitude           float64\n",
            " 8   timestamp          int64  \n",
            " 9   time_elapsed       float64\n",
            " 10  heart_rate         float64\n",
            " 11  derived_speed      float64\n",
            " 12  distance           float64\n",
            " 13  tar_heart_rate     float64\n",
            " 14  tar_derived_speed  float64\n",
            " 15  since_begin        float64\n",
            " 16  since_last         float64\n",
            "dtypes: float64(11), int64(4), object(2)\n",
            "memory usage: 3.9+ GB\n"
          ]
        }
      ],
      "source": [
        "df_csv.info()\n",
        "clean_df = df_csv.drop('Unnamed: 0', axis=1) # drop the csv created column"
      ]
    },
    {
      "cell_type": "code",
      "execution_count": null,
      "metadata": {
        "id": "n0gtwbM3_wUQ",
        "outputId": "a2f8f70e-be7f-4ba4-e5a5-acb3b7fa19f0"
      },
      "outputs": [
        {
          "name": "stdout",
          "output_type": "stream",
          "text": [
            "length of userIds are: 1038\n",
            "lenth of ids are: 102992\n"
          ]
        }
      ],
      "source": [
        "len_userid = len(clean_df['userId'].unique())\n",
        "len_id = len(clean_df['id'].unique())\n",
        "print(f'length of userIds are: {len_userid}')\n",
        "print(f'lenth of ids are: {len_id}')\n",
        "clean_df['gender'].unique()\n",
        "clean_df = clean_df[clean_df['gender'] != 'unknown']"
      ]
    },
    {
      "cell_type": "code",
      "execution_count": null,
      "metadata": {
        "id": "HUA9KAIx_wUQ",
        "outputId": "67ed519f-de9a-4958-879d-acc4f0880c40"
      },
      "outputs": [
        {
          "data": {
            "text/plain": [
              "count    3.064290e+07\n",
              "mean    -8.287294e-15\n",
              "std      1.000000e+00\n",
              "min     -3.999437e+00\n",
              "25%     -5.979219e-01\n",
              "50%      9.705827e-02\n",
              "75%      6.922186e-01\n",
              "max      2.898423e+00\n",
              "Name: tar_heart_rate, dtype: float64"
            ]
          },
          "execution_count": 7,
          "metadata": {},
          "output_type": "execute_result"
        }
      ],
      "source": [
        "clean_df['tar_heart_rate'] = zscore(clean_df['tar_heart_rate'])\n",
        "clean_df['tar_heart_rate'].describe()"
      ]
    },
    {
      "cell_type": "code",
      "execution_count": null,
      "metadata": {
        "id": "YI7NF2nQ_wUQ",
        "outputId": "964752b9-1359-4857-f423-f941f27f5908"
      },
      "outputs": [
        {
          "data": {
            "text/plain": [
              "Index(['userId', 'gender', 'sport', 'id', 'longitude', 'latitude', 'altitude',\n",
              "       'timestamp', 'time_elapsed', 'heart_rate', 'derived_speed', 'distance',\n",
              "       'tar_heart_rate', 'tar_derived_speed', 'since_begin', 'since_last'],\n",
              "      dtype='object')"
            ]
          },
          "execution_count": 8,
          "metadata": {},
          "output_type": "execute_result"
        }
      ],
      "source": [
        "clean_df.columns"
      ]
    },
    {
      "cell_type": "markdown",
      "metadata": {
        "id": "Nx4xWrhp_wUQ"
      },
      "source": [
        "Split Data into training/testing"
      ]
    },
    {
      "cell_type": "code",
      "execution_count": null,
      "metadata": {
        "id": "SwLDSBds_wUR",
        "outputId": "267565bb-2896-47bd-8377-b131b5ba872a"
      },
      "outputs": [
        {
          "data": {
            "text/plain": [
              "sport\n",
              "bike                       30000\n",
              "core stability training    30000\n",
              "fitness walking            30000\n",
              "run                        30000\n",
              "skate                      30000\n",
              "walk                       30000\n",
              "roller skiing              30000\n",
              "hiking                     30000\n",
              "orienteering               30000\n",
              "cross-country skiing       30000\n",
              "indoor cycling             30000\n",
              "mountain bike              30000\n",
              "bike (transport)           30000\n",
              "kayaking                   18000\n",
              "circuit training           15900\n",
              "rowing                     13800\n",
              "weight training             9000\n",
              "downhill skiing             7200\n",
              "soccer                      6300\n",
              "snowshoeing                 4500\n",
              "golf                        3300\n",
              "horseback riding            2100\n",
              "badminton                   1500\n",
              "climbing                    1500\n",
              "treadmill running           1500\n",
              "tennis                      1500\n",
              "basketball                  1200\n",
              "table tennis                 900\n",
              "rugby                        900\n",
              "elliptical                   600\n",
              "snowboarding                 600\n",
              "aerobics                     300\n",
              "gymnastics                   300\n",
              "sailing                      300\n",
              "kite surfing                 300\n",
              "squash                       300\n",
              "stair climing                300\n",
              "martial arts                 300\n",
              "swimming                     300\n",
              "Name: count, dtype: int64"
            ]
          },
          "execution_count": 9,
          "metadata": {},
          "output_type": "execute_result"
        }
      ],
      "source": [
        "clean_df_check = clean_df[clean_df.groupby(['sport']).cumcount() < 30000]\n",
        "clean_df_check['sport'].value_counts()"
      ]
    },
    {
      "cell_type": "code",
      "execution_count": null,
      "metadata": {
        "id": "EUiQxKl-_wUS"
      },
      "outputs": [],
      "source": [
        "# using train test split to split ds\n",
        "# features = ['userId', 'id', 'longitude', 'latitude', 'altitude', 'timestamp',\n",
        "#        'time_elapsed', 'heart_rate', 'derived_speed', 'distance',\n",
        "#        'tar_heart_rate', 'tar_derived_speed', 'since_begin', 'since_last',\n",
        "#        'gender_female', 'gender_male']\n",
        "features = ['userId', 'tar_heart_rate']\n",
        "\n",
        "# X = clean_df.loc[:, features]\n",
        "# y = clean_df.loc[:, ['sport']]\n",
        "\n",
        "X = clean_df_check.loc[:, features]\n",
        "y = clean_df_check.loc[:, ['sport']]\n"
      ]
    },
    {
      "cell_type": "code",
      "execution_count": null,
      "metadata": {
        "id": "2wa9gWqW_wUS"
      },
      "outputs": [],
      "source": [
        "X_train, X_test, y_train, y_test = train_test_split(X, y, random_state=42, train_size = .80, shuffle=False)"
      ]
    },
    {
      "cell_type": "code",
      "execution_count": null,
      "metadata": {
        "id": "s9YXh6J6_wUS",
        "outputId": "a467a499-8066-48cb-941a-1691cc540480"
      },
      "outputs": [
        {
          "name": "stdout",
          "output_type": "stream",
          "text": [
            "X.shape = (482700, 2)\n",
            "y.shape = (482700, 1)\n",
            "X_train.shape = (386160, 2)\n",
            "X_test.shape = (96540, 2)\n",
            "y_train.shape = (386160, 1)\n",
            "y_test.shape = (96540, 1)\n"
          ]
        }
      ],
      "source": [
        "print(f'X.shape = {X.shape}')\n",
        "print(f'y.shape = {y.shape}')\n",
        "\n",
        "print(f'X_train.shape = {X_train.shape}')\n",
        "print(f'X_test.shape = {X_test.shape}')\n",
        "print(f'y_train.shape = {y_train.shape}')\n",
        "print(f'y_test.shape = {y_test.shape}')"
      ]
    },
    {
      "cell_type": "code",
      "execution_count": null,
      "metadata": {
        "id": "XHgK1IqZ_wUT"
      },
      "outputs": [],
      "source": [
        "small_df = clean_df_check[:10000]\n",
        "X_small = small_df.loc[:, features]\n",
        "y_small = small_df.loc[:, ['sport']]"
      ]
    },
    {
      "cell_type": "markdown",
      "metadata": {
        "id": "CBSNc2_p_wUT"
      },
      "source": [
        "Model: SVC"
      ]
    },
    {
      "cell_type": "code",
      "execution_count": null,
      "metadata": {
        "id": "2yMzb1hC_wUT"
      },
      "outputs": [],
      "source": [
        "X_small_train, X_small_test, y_small_train, y_small_test = train_test_split(X_small, y_small, random_state=42, train_size = .80, shuffle=False)"
      ]
    },
    {
      "cell_type": "code",
      "execution_count": null,
      "metadata": {
        "id": "1n6hzD64_wUT",
        "outputId": "e49d0fd0-8234-49e2-9578-dd81e7b521f6"
      },
      "outputs": [
        {
          "name": "stderr",
          "output_type": "stream",
          "text": [
            "/Users/amankaur/mambaforge/lib/python3.10/site-packages/sklearn/utils/validation.py:1207: DataConversionWarning: A column-vector y was passed when a 1d array was expected. Please change the shape of y to (n_samples, ), for example using ravel().\n",
            "  y = column_or_1d(y, warn=True)\n"
          ]
        }
      ],
      "source": [
        "# load library\n",
        "from sklearn.svm import SVC\n",
        "\n",
        "svc_model = SVC()\n",
        "svc_model.fit(X_small_train, y_small_train)\n",
        "svc_predict = svc_model.predict(X_small_test) # check performance"
      ]
    },
    {
      "cell_type": "code",
      "execution_count": null,
      "metadata": {
        "id": "x4OhnMvd_wUT",
        "outputId": "2731acab-1bff-4ee2-c62c-e0d3a1d444cc"
      },
      "outputs": [
        {
          "name": "stdout",
          "output_type": "stream",
          "text": [
            "accuracy: 0.85\n"
          ]
        }
      ],
      "source": [
        "# Calculate the accuracy score\n",
        "accuracy = accuracy_score(y_small_test, svc_predict)\n",
        "print(f'accuracy: {accuracy}')"
      ]
    },
    {
      "cell_type": "markdown",
      "metadata": {
        "id": "yGVOBUTW_wUT"
      },
      "source": [
        "trying on whole data set"
      ]
    },
    {
      "cell_type": "code",
      "execution_count": null,
      "metadata": {
        "id": "i3KKoka7_wUT"
      },
      "outputs": [],
      "source": [
        "# trying on whole data set\n",
        "X_train, X_test, y_train, y_test = train_test_split(X, y, random_state=42, train_size = .80,  shuffle=False)"
      ]
    },
    {
      "cell_type": "code",
      "execution_count": null,
      "metadata": {
        "id": "33qY27zm_wUU",
        "outputId": "a22178e2-3bc9-434f-fbb0-b02048bb5e0b"
      },
      "outputs": [
        {
          "name": "stderr",
          "output_type": "stream",
          "text": [
            "/Users/amankaur/mambaforge/lib/python3.10/site-packages/sklearn/utils/validation.py:1207: DataConversionWarning: A column-vector y was passed when a 1d array was expected. Please change the shape of y to (n_samples, ), for example using ravel().\n",
            "  y = column_or_1d(y, warn=True)\n"
          ]
        }
      ],
      "source": [
        "# load library\n",
        "from sklearn.svm import SVC\n",
        "\n",
        "svc_model = SVC()\n",
        "svc_model.fit(X_train, y_train)\n",
        "svc_predict = svc_model.predict(X_test) # check performance"
      ]
    },
    {
      "cell_type": "code",
      "execution_count": null,
      "metadata": {
        "id": "IiCXWe3W_wUU"
      },
      "outputs": [],
      "source": [
        "# Calculate the accuracy score\n",
        "accuracy = accuracy_score(y_test, svc_predict)\n",
        "print(f'accuracy: {accuracy}')"
      ]
    },
    {
      "cell_type": "markdown",
      "metadata": {
        "id": "Px7flXtq_wUU"
      },
      "source": [
        "Model: Linear SVC"
      ]
    },
    {
      "cell_type": "code",
      "execution_count": null,
      "metadata": {
        "id": "g9sMTko7_wUU"
      },
      "outputs": [],
      "source": [
        "X_train, X_test, y_train, y_test = train_test_split(X, y, random_state=42, train_size = .80,  shuffle=True)"
      ]
    },
    {
      "cell_type": "code",
      "execution_count": null,
      "metadata": {
        "id": "h2wTOU-C_wUU",
        "outputId": "3fbde4ee-f436-433b-aa4d-df9990f3bfbc"
      },
      "outputs": [
        {
          "name": "stdout",
          "output_type": "stream",
          "text": [
            "<class 'pandas.core.frame.DataFrame'>\n",
            "Index: 386160 entries, 15768836 to 433958\n",
            "Data columns (total 2 columns):\n",
            " #   Column          Non-Null Count   Dtype  \n",
            "---  ------          --------------   -----  \n",
            " 0   userId          386160 non-null  int64  \n",
            " 1   tar_heart_rate  386160 non-null  float64\n",
            "dtypes: float64(1), int64(1)\n",
            "memory usage: 8.8 MB\n"
          ]
        }
      ],
      "source": [
        "X_train.info()"
      ]
    },
    {
      "cell_type": "code",
      "execution_count": null,
      "metadata": {
        "id": "Pq7cQchZ_wUU",
        "outputId": "128cb843-7c0a-4749-b85c-5c61bbe59616"
      },
      "outputs": [
        {
          "name": "stderr",
          "output_type": "stream",
          "text": [
            "/Users/amankaur/mambaforge/lib/python3.10/site-packages/sklearn/utils/validation.py:1207: DataConversionWarning: A column-vector y was passed when a 1d array was expected. Please change the shape of y to (n_samples, ), for example using ravel().\n",
            "  y = column_or_1d(y, warn=True)\n",
            "/Users/amankaur/mambaforge/lib/python3.10/site-packages/sklearn/svm/_classes.py:32: FutureWarning: The default value of `dual` will change from `True` to `'auto'` in 1.5. Set the value of `dual` explicitly to suppress the warning.\n",
            "  warnings.warn(\n",
            "/Users/amankaur/mambaforge/lib/python3.10/site-packages/sklearn/svm/_base.py:1250: ConvergenceWarning: Liblinear failed to converge, increase the number of iterations.\n",
            "  warnings.warn(\n"
          ]
        }
      ],
      "source": [
        "# load library\n",
        "from sklearn.svm import LinearSVC\n",
        "\n",
        "lsvc_model = LinearSVC(verbose=0)\n",
        "lsvc_model.fit(X_train, y_train)\n",
        "lsvc_predict = lsvc_model.predict(X_test) # check performance"
      ]
    },
    {
      "cell_type": "code",
      "execution_count": null,
      "metadata": {
        "id": "6gYNXwyX_wUU",
        "outputId": "fd2c171f-4933-43b0-d9a9-e6c65644f44e"
      },
      "outputs": [
        {
          "name": "stdout",
          "output_type": "stream",
          "text": [
            "accuracy: 0.09130930184379532\n"
          ]
        }
      ],
      "source": [
        "# Calculate the accuracy score\n",
        "accuracy = accuracy_score(y_test, lsvc_predict)\n",
        "print(f'accuracy: {accuracy}')"
      ]
    },
    {
      "cell_type": "markdown",
      "metadata": {
        "id": "zThiq9db_wUU"
      },
      "source": [
        "Model: MLPClassifier"
      ]
    },
    {
      "cell_type": "code",
      "execution_count": null,
      "metadata": {
        "id": "8cojMYB7_wUU"
      },
      "outputs": [],
      "source": [
        "X_small_train, X_small_test, y_small_train, y_small_test = train_test_split(X_small, y_small, random_state=42, train_size = .80, shuffle=True)"
      ]
    },
    {
      "cell_type": "code",
      "execution_count": null,
      "metadata": {
        "id": "c-l09PrT_wUU",
        "outputId": "143e0578-0245-49e2-9f37-3eb4bf05c9ca"
      },
      "outputs": [
        {
          "name": "stderr",
          "output_type": "stream",
          "text": [
            "/Users/amankaur/mambaforge/lib/python3.10/site-packages/sklearn/neural_network/_multilayer_perceptron.py:1101: DataConversionWarning: A column-vector y was passed when a 1d array was expected. Please change the shape of y to (n_samples, ), for example using ravel().\n",
            "  y = column_or_1d(y, warn=True)\n"
          ]
        }
      ],
      "source": [
        "from sklearn.neural_network import MLPClassifier\n",
        "\n",
        "# Create the classifier\n",
        "clf = MLPClassifier()\n",
        "\n",
        "# Fit the classifier to the training data\n",
        "clf.fit(X_small_train, y_small_train)\n",
        "\n",
        "# Predict the labels of the test data\n",
        "y_pred = clf.predict(X_small_test)"
      ]
    },
    {
      "cell_type": "code",
      "execution_count": null,
      "metadata": {
        "id": "wA0VgADY_wUV",
        "outputId": "7b9e35e5-cb54-45f1-bdda-a13c00a93db3"
      },
      "outputs": [
        {
          "name": "stdout",
          "output_type": "stream",
          "text": [
            "accuracy: 0.6615\n"
          ]
        }
      ],
      "source": [
        "# Calculate the accuracy score\n",
        "accuracy = accuracy_score(y_small_test, y_pred)\n",
        "print(f'accuracy: {accuracy}')"
      ]
    },
    {
      "cell_type": "code",
      "execution_count": null,
      "metadata": {
        "id": "M9Vzkkkn_wUV"
      },
      "outputs": [],
      "source": [
        "X_train, X_test, y_train, y_test = train_test_split(X, y, random_state=42, train_size = .80,  shuffle=True)"
      ]
    },
    {
      "cell_type": "code",
      "execution_count": null,
      "metadata": {
        "id": "LhSRh1wC_wUV",
        "outputId": "2f303d79-19fb-491a-d20e-bf84cb463421"
      },
      "outputs": [
        {
          "name": "stdout",
          "output_type": "stream",
          "text": [
            "<class 'pandas.core.frame.DataFrame'>\n",
            "Index: 386160 entries, 15768836 to 433958\n",
            "Data columns (total 2 columns):\n",
            " #   Column          Non-Null Count   Dtype  \n",
            "---  ------          --------------   -----  \n",
            " 0   userId          386160 non-null  int64  \n",
            " 1   tar_heart_rate  386160 non-null  float64\n",
            "dtypes: float64(1), int64(1)\n",
            "memory usage: 8.8 MB\n"
          ]
        }
      ],
      "source": [
        "X_train.info()"
      ]
    },
    {
      "cell_type": "code",
      "execution_count": null,
      "metadata": {
        "id": "oXBhyd7h_wUV"
      },
      "outputs": [],
      "source": [
        "from sklearn.neural_network import MLPClassifier\n",
        "\n",
        "# Create the classifier\n",
        "clf = MLPClassifier()\n"
      ]
    },
    {
      "cell_type": "code",
      "execution_count": null,
      "metadata": {
        "id": "iW1cgAEV_wUV",
        "outputId": "0ed73f50-e31f-4390-e7db-8460aa20a864"
      },
      "outputs": [
        {
          "data": {
            "text/plain": [
              "sport                  \n",
              "skate                      24101\n",
              "bike (transport)           24076\n",
              "run                        24076\n",
              "cross-country skiing       24075\n",
              "roller skiing              24037\n",
              "orienteering               24010\n",
              "indoor cycling             23987\n",
              "bike                       23986\n",
              "core stability training    23970\n",
              "mountain bike              23961\n",
              "walk                       23946\n",
              "hiking                     23907\n",
              "fitness walking            23888\n",
              "kayaking                   14423\n",
              "circuit training           12655\n",
              "rowing                     11079\n",
              "weight training             7221\n",
              "downhill skiing             5743\n",
              "soccer                      5062\n",
              "snowshoeing                 3542\n",
              "golf                        2643\n",
              "horseback riding            1692\n",
              "badminton                   1212\n",
              "tennis                      1202\n",
              "climbing                    1193\n",
              "treadmill running           1187\n",
              "basketball                   962\n",
              "rugby                        731\n",
              "table tennis                 694\n",
              "snowboarding                 482\n",
              "elliptical                   476\n",
              "swimming                     256\n",
              "sailing                      248\n",
              "stair climing                248\n",
              "gymnastics                   246\n",
              "squash                       242\n",
              "kite surfing                 235\n",
              "martial arts                 234\n",
              "aerobics                     232\n",
              "Name: count, dtype: int64"
            ]
          },
          "execution_count": 27,
          "metadata": {},
          "output_type": "execute_result"
        }
      ],
      "source": [
        "y_train.value_counts()"
      ]
    },
    {
      "cell_type": "code",
      "execution_count": null,
      "metadata": {
        "id": "QWILgqbn_wUV",
        "outputId": "e5c63b60-cfb7-48e1-ee35-197b23cbc5ab"
      },
      "outputs": [
        {
          "name": "stderr",
          "output_type": "stream",
          "text": [
            "/Users/amankaur/mambaforge/lib/python3.10/site-packages/sklearn/neural_network/_multilayer_perceptron.py:1101: DataConversionWarning: A column-vector y was passed when a 1d array was expected. Please change the shape of y to (n_samples, ), for example using ravel().\n",
            "  y = column_or_1d(y, warn=True)\n"
          ]
        }
      ],
      "source": [
        "\n",
        "# Fit the classifier to the training data\n",
        "clf.fit(X_train, y_train)\n",
        "\n",
        "\n",
        "# Predict the labels of the test data\n",
        "y_pred_ = clf.predict(X_test)"
      ]
    },
    {
      "cell_type": "code",
      "execution_count": null,
      "metadata": {
        "id": "ilWvy1tw_wUV",
        "outputId": "f85ca22a-ea50-463c-87ed-189edc7f3aad"
      },
      "outputs": [
        {
          "name": "stdout",
          "output_type": "stream",
          "text": [
            "accuracy: 0.061363165527242594\n"
          ]
        }
      ],
      "source": [
        "# Calculate the accuracy score\n",
        "accuracy = accuracy_score(y_test, y_pred_)\n",
        "print(f'accuracy: {accuracy}')"
      ]
    },
    {
      "cell_type": "markdown",
      "metadata": {
        "id": "AdOvSTks_wUV"
      },
      "source": [
        "Model: DecisionTreeRegressor\n",
        "Note: Need to one hot encode the values"
      ]
    },
    {
      "cell_type": "code",
      "execution_count": null,
      "metadata": {
        "id": "WG2j-Xn3_wUV"
      },
      "outputs": [],
      "source": [
        "from sklearn.tree import DecisionTreeRegressor\n",
        "\n",
        "reg = DecisionTreeRegressor(max_depth = 4, random_state = 0)\n",
        "reg.fit(X_train, y_train)\n"
      ]
    },
    {
      "cell_type": "code",
      "execution_count": null,
      "metadata": {
        "id": "v-IWAdDU_wUV",
        "outputId": "e85326f1-70dd-4e60-dcb8-e811790a357b"
      },
      "outputs": [
        {
          "name": "stdout",
          "output_type": "stream",
          "text": [
            "0.016178888322821716\n"
          ]
        }
      ],
      "source": [
        "score = reg.score(X_test, y_test)\n",
        "print(score)"
      ]
    }
  ],
  "metadata": {
    "kernelspec": {
      "display_name": "Python 3 (ipykernel)",
      "language": "python",
      "name": "python3"
    },
    "language_info": {
      "codemirror_mode": {
        "name": "ipython",
        "version": 3
      },
      "file_extension": ".py",
      "mimetype": "text/x-python",
      "name": "python",
      "nbconvert_exporter": "python",
      "pygments_lexer": "ipython3",
      "version": "3.10.9"
    },
    "colab": {
      "provenance": []
    }
  },
  "nbformat": 4,
  "nbformat_minor": 0
}